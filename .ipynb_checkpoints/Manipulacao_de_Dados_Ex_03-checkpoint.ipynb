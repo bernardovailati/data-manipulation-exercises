{
 "cells": [
  {
   "cell_type": "markdown",
   "metadata": {
    "colab_type": "text",
    "id": "hAcVCqunNHPq"
   },
   "source": [
    "![](https://i.imgur.com/JsMvGnP.png)"
   ]
  },
  {
   "cell_type": "markdown",
   "metadata": {
    "colab_type": "text",
    "id": "xlIVUULwujKa"
   },
   "source": [
    "\n",
    "## Exercícios de manipulação de dados - Parte 3"
   ]
  },
  {
   "cell_type": "markdown",
   "metadata": {
    "colab_type": "text",
    "id": "RoztT_BzujKc"
   },
   "source": [
    "Neste Jupyter notebook você irá resolver uma exercícios utilizando a linguagem Python e a biblioteca Pandas.\n",
    "\n",
    "Todos os datasets utilizados nos exercícios estão salvos na pasta **datasets**.\n",
    "\n",
    "Todo o seu código deve ser executado neste Jupyter Notebook. Por fim, se desejar, revise as respostas com o seu mentor."
   ]
  },
  {
   "cell_type": "markdown",
   "metadata": {
    "colab_type": "text",
    "id": "VYyMlLtIujKe"
   },
   "source": [
    "### Tarefa 1. Importe o dataset e salve os dados em um dataframe\n",
    "\n",
    "Os dados estão salvos no arquivo ***datasets/users_dataset.txt***.\n",
    "\n",
    "Salve os dados em uma variável de nome *users*."
   ]
  },
  {
   "cell_type": "code",
   "execution_count": 4,
   "metadata": {},
   "outputs": [],
   "source": [
    "import pandas as pd"
   ]
  },
  {
   "cell_type": "code",
   "execution_count": 7,
   "metadata": {},
   "outputs": [],
   "source": [
    "csv = pd.read_csv('datasets/users_dataset.csv', sep='|')"
   ]
  },
  {
   "cell_type": "code",
   "execution_count": 8,
   "metadata": {},
   "outputs": [],
   "source": [
    "users = pd.DataFrame(csv)"
   ]
  },
  {
   "cell_type": "markdown",
   "metadata": {
    "colab_type": "text",
    "id": "GpGg63VvujKh"
   },
   "source": [
    "### Tarefa 2. Descubra qual a idade média por ocupação.\n",
    "\n",
    "*Dica: use a função groupby do Pandas na coluna occupation*"
   ]
  },
  {
   "cell_type": "code",
   "execution_count": 9,
   "metadata": {
    "colab": {},
    "colab_type": "code",
    "id": "xCzIIT60ujKi"
   },
   "outputs": [
    {
     "data": {
      "text/plain": [
       "occupation\n",
       "administrator    38.746835\n",
       "artist           31.392857\n",
       "doctor           43.571429\n",
       "educator         42.010526\n",
       "engineer         36.388060\n",
       "entertainment    29.222222\n",
       "executive        38.718750\n",
       "healthcare       41.562500\n",
       "homemaker        32.571429\n",
       "lawyer           36.750000\n",
       "librarian        40.000000\n",
       "marketing        37.615385\n",
       "none             26.555556\n",
       "other            34.523810\n",
       "programmer       33.121212\n",
       "retired          63.071429\n",
       "salesman         35.666667\n",
       "scientist        35.548387\n",
       "student          22.081633\n",
       "technician       33.148148\n",
       "writer           36.311111\n",
       "Name: age, dtype: float64"
      ]
     },
     "execution_count": 9,
     "metadata": {},
     "output_type": "execute_result"
    }
   ],
   "source": [
    "users.groupby('occupation')['age'].mean()"
   ]
  },
  {
   "cell_type": "markdown",
   "metadata": {
    "colab_type": "text",
    "id": "y1R0vw2XujKn"
   },
   "source": [
    "### Tarefa 3. Para cada ocupação descubra a idade mínima e máxima."
   ]
  },
  {
   "cell_type": "code",
   "execution_count": 11,
   "metadata": {
    "colab": {},
    "colab_type": "code",
    "id": "GhhaqSCtujKp"
   },
   "outputs": [
    {
     "data": {
      "text/html": [
       "<div>\n",
       "<style scoped>\n",
       "    .dataframe tbody tr th:only-of-type {\n",
       "        vertical-align: middle;\n",
       "    }\n",
       "\n",
       "    .dataframe tbody tr th {\n",
       "        vertical-align: top;\n",
       "    }\n",
       "\n",
       "    .dataframe thead tr th {\n",
       "        text-align: left;\n",
       "    }\n",
       "\n",
       "    .dataframe thead tr:last-of-type th {\n",
       "        text-align: right;\n",
       "    }\n",
       "</style>\n",
       "<table border=\"1\" class=\"dataframe\">\n",
       "  <thead>\n",
       "    <tr>\n",
       "      <th></th>\n",
       "      <th colspan=\"2\" halign=\"left\">age</th>\n",
       "    </tr>\n",
       "    <tr>\n",
       "      <th></th>\n",
       "      <th>min</th>\n",
       "      <th>max</th>\n",
       "    </tr>\n",
       "    <tr>\n",
       "      <th>occupation</th>\n",
       "      <th></th>\n",
       "      <th></th>\n",
       "    </tr>\n",
       "  </thead>\n",
       "  <tbody>\n",
       "    <tr>\n",
       "      <td>administrator</td>\n",
       "      <td>21</td>\n",
       "      <td>70</td>\n",
       "    </tr>\n",
       "    <tr>\n",
       "      <td>artist</td>\n",
       "      <td>19</td>\n",
       "      <td>48</td>\n",
       "    </tr>\n",
       "    <tr>\n",
       "      <td>doctor</td>\n",
       "      <td>28</td>\n",
       "      <td>64</td>\n",
       "    </tr>\n",
       "    <tr>\n",
       "      <td>educator</td>\n",
       "      <td>23</td>\n",
       "      <td>63</td>\n",
       "    </tr>\n",
       "    <tr>\n",
       "      <td>engineer</td>\n",
       "      <td>22</td>\n",
       "      <td>70</td>\n",
       "    </tr>\n",
       "    <tr>\n",
       "      <td>entertainment</td>\n",
       "      <td>15</td>\n",
       "      <td>50</td>\n",
       "    </tr>\n",
       "    <tr>\n",
       "      <td>executive</td>\n",
       "      <td>22</td>\n",
       "      <td>69</td>\n",
       "    </tr>\n",
       "    <tr>\n",
       "      <td>healthcare</td>\n",
       "      <td>22</td>\n",
       "      <td>62</td>\n",
       "    </tr>\n",
       "    <tr>\n",
       "      <td>homemaker</td>\n",
       "      <td>20</td>\n",
       "      <td>50</td>\n",
       "    </tr>\n",
       "    <tr>\n",
       "      <td>lawyer</td>\n",
       "      <td>21</td>\n",
       "      <td>53</td>\n",
       "    </tr>\n",
       "    <tr>\n",
       "      <td>librarian</td>\n",
       "      <td>23</td>\n",
       "      <td>69</td>\n",
       "    </tr>\n",
       "    <tr>\n",
       "      <td>marketing</td>\n",
       "      <td>24</td>\n",
       "      <td>55</td>\n",
       "    </tr>\n",
       "    <tr>\n",
       "      <td>none</td>\n",
       "      <td>11</td>\n",
       "      <td>55</td>\n",
       "    </tr>\n",
       "    <tr>\n",
       "      <td>other</td>\n",
       "      <td>13</td>\n",
       "      <td>64</td>\n",
       "    </tr>\n",
       "    <tr>\n",
       "      <td>programmer</td>\n",
       "      <td>20</td>\n",
       "      <td>63</td>\n",
       "    </tr>\n",
       "    <tr>\n",
       "      <td>retired</td>\n",
       "      <td>51</td>\n",
       "      <td>73</td>\n",
       "    </tr>\n",
       "    <tr>\n",
       "      <td>salesman</td>\n",
       "      <td>18</td>\n",
       "      <td>66</td>\n",
       "    </tr>\n",
       "    <tr>\n",
       "      <td>scientist</td>\n",
       "      <td>23</td>\n",
       "      <td>55</td>\n",
       "    </tr>\n",
       "    <tr>\n",
       "      <td>student</td>\n",
       "      <td>7</td>\n",
       "      <td>42</td>\n",
       "    </tr>\n",
       "    <tr>\n",
       "      <td>technician</td>\n",
       "      <td>21</td>\n",
       "      <td>55</td>\n",
       "    </tr>\n",
       "    <tr>\n",
       "      <td>writer</td>\n",
       "      <td>18</td>\n",
       "      <td>60</td>\n",
       "    </tr>\n",
       "  </tbody>\n",
       "</table>\n",
       "</div>"
      ],
      "text/plain": [
       "              age    \n",
       "              min max\n",
       "occupation           \n",
       "administrator  21  70\n",
       "artist         19  48\n",
       "doctor         28  64\n",
       "educator       23  63\n",
       "engineer       22  70\n",
       "entertainment  15  50\n",
       "executive      22  69\n",
       "healthcare     22  62\n",
       "homemaker      20  50\n",
       "lawyer         21  53\n",
       "librarian      23  69\n",
       "marketing      24  55\n",
       "none           11  55\n",
       "other          13  64\n",
       "programmer     20  63\n",
       "retired        51  73\n",
       "salesman       18  66\n",
       "scientist      23  55\n",
       "student         7  42\n",
       "technician     21  55\n",
       "writer         18  60"
      ]
     },
     "execution_count": 11,
     "metadata": {},
     "output_type": "execute_result"
    }
   ],
   "source": [
    "users.groupby('occupation').agg({'age': ['min', 'max']})"
   ]
  },
  {
   "cell_type": "markdown",
   "metadata": {
    "colab_type": "text",
    "id": "DT-Lcsz2ujKz"
   },
   "source": [
    "### Tarefa 4. Para cada combinação de ocupação e sexo, calcule a idade média.\n",
    "\n",
    "Exemplo:\n",
    "\n",
    "```\n",
    "occupation     gender\n",
    "administrator  F         40.638889\n",
    "               M         37.162791\n",
    "artist         F         30.307692\n",
    "               M         32.333333\n",
    "```"
   ]
  },
  {
   "cell_type": "code",
   "execution_count": 12,
   "metadata": {
    "colab": {},
    "colab_type": "code",
    "id": "aMIV75fTujKz"
   },
   "outputs": [
    {
     "data": {
      "text/plain": [
       "occupation     gender\n",
       "administrator  F         40.638889\n",
       "               M         37.162791\n",
       "artist         F         30.307692\n",
       "               M         32.333333\n",
       "doctor         M         43.571429\n",
       "educator       F         39.115385\n",
       "               M         43.101449\n",
       "engineer       F         29.500000\n",
       "               M         36.600000\n",
       "entertainment  F         31.000000\n",
       "               M         29.000000\n",
       "executive      F         44.000000\n",
       "               M         38.172414\n",
       "healthcare     F         39.818182\n",
       "               M         45.400000\n",
       "homemaker      F         34.166667\n",
       "               M         23.000000\n",
       "lawyer         F         39.500000\n",
       "               M         36.200000\n",
       "librarian      F         40.000000\n",
       "               M         40.000000\n",
       "marketing      F         37.200000\n",
       "               M         37.875000\n",
       "none           F         36.500000\n",
       "               M         18.600000\n",
       "other          F         35.472222\n",
       "               M         34.028986\n",
       "programmer     F         32.166667\n",
       "               M         33.216667\n",
       "retired        F         70.000000\n",
       "               M         62.538462\n",
       "salesman       F         27.000000\n",
       "               M         38.555556\n",
       "scientist      F         28.333333\n",
       "               M         36.321429\n",
       "student        F         20.750000\n",
       "               M         22.669118\n",
       "technician     F         38.000000\n",
       "               M         32.961538\n",
       "writer         F         37.631579\n",
       "               M         35.346154\n",
       "Name: age, dtype: float64"
      ]
     },
     "execution_count": 12,
     "metadata": {},
     "output_type": "execute_result"
    }
   ],
   "source": [
    "users.groupby(['occupation', 'gender'])['age'].mean()"
   ]
  },
  {
   "cell_type": "markdown",
   "metadata": {
    "colab_type": "text",
    "id": "B2TxLDyoujK3"
   },
   "source": [
    "### Tarefa 5. Para cada ocupação calcule a porcentagem de homens e mulheres.\n",
    "\n",
    "Exemplo:\n",
    "\n",
    "```\n",
    "occupation     gender\n",
    "administrator  F          45.569620\n",
    "               M          54.430380\n",
    "artist         F          46.428571\n",
    "               M          53.571429\n",
    "doctor         M         100.000000\n",
    "educator       F          27.368421\n",
    "               M          72.631579\n",
    "```"
   ]
  },
  {
   "cell_type": "code",
   "execution_count": 15,
   "metadata": {
    "colab": {},
    "colab_type": "code",
    "id": "XnBH1LMuujK4"
   },
   "outputs": [
    {
     "data": {
      "text/plain": [
       "occupation     gender\n",
       "administrator  F         13.186813\n",
       "               M          6.417910\n",
       "artist         F          4.761905\n",
       "               M          2.238806\n",
       "doctor         M          1.044776\n",
       "educator       F          9.523810\n",
       "               M         10.298507\n",
       "engineer       F          0.732601\n",
       "               M          9.701493\n",
       "entertainment  F          0.732601\n",
       "               M          2.388060\n",
       "executive      F          1.098901\n",
       "               M          4.328358\n",
       "healthcare     F          4.029304\n",
       "               M          0.746269\n",
       "homemaker      F          2.197802\n",
       "               M          0.149254\n",
       "lawyer         F          0.732601\n",
       "               M          1.492537\n",
       "librarian      F         10.622711\n",
       "               M          3.283582\n",
       "marketing      F          3.663004\n",
       "               M          2.388060\n",
       "none           F          1.465201\n",
       "               M          0.746269\n",
       "other          F         13.186813\n",
       "               M         10.298507\n",
       "programmer     F          2.197802\n",
       "               M          8.955224\n",
       "retired        F          0.366300\n",
       "               M          1.940299\n",
       "salesman       F          1.098901\n",
       "               M          1.343284\n",
       "scientist      F          1.098901\n",
       "               M          4.179104\n",
       "student        F         21.978022\n",
       "               M         20.298507\n",
       "technician     F          0.366300\n",
       "               M          3.880597\n",
       "writer         F          6.959707\n",
       "               M          3.880597\n",
       "Name: gender, dtype: float64"
      ]
     },
     "execution_count": 15,
     "metadata": {},
     "output_type": "execute_result"
    }
   ],
   "source": [
    "occ_gen_div = users.groupby(['occupation', 'gender'])['gender'].count()\n",
    "occ_gen_div.groupby(level=1).apply(lambda x: 100 * x/x.sum())"
   ]
  },
  {
   "cell_type": "markdown",
   "metadata": {
    "colab_type": "text",
    "id": "Wkw71CayujK-"
   },
   "source": [
    "**Parabéns! Você chegou ao fim!**"
   ]
  }
 ],
 "metadata": {
  "colab": {
   "collapsed_sections": [],
   "name": "Exercicios_unidade_5_Manipulacao_de_Dados_Parte_03.ipynb",
   "provenance": []
  },
  "kernelspec": {
   "display_name": "Python 3",
   "language": "python",
   "name": "python3"
  },
  "language_info": {
   "codemirror_mode": {
    "name": "ipython",
    "version": 3
   },
   "file_extension": ".py",
   "mimetype": "text/x-python",
   "name": "python",
   "nbconvert_exporter": "python",
   "pygments_lexer": "ipython3",
   "version": "3.7.4"
  }
 },
 "nbformat": 4,
 "nbformat_minor": 4
}
